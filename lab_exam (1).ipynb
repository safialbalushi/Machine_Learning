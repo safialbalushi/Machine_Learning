{
 "cells": [
  {
   "cell_type": "code",
   "execution_count": 38,
   "id": "1a3297ef",
   "metadata": {},
   "outputs": [],
   "source": [
    "import pandas as pd\n",
    "import numpy as np\n",
    "import matplotlib.pyplot as plt\n",
    "import seaborn as sns\n",
    "from sklearn.metrics import precision_recall_curve, roc_curve\n",
    "from sklearn.preprocessing import label_binarize\n",
    "from sklearn.multiclass import OneVsRestClassifier\n",
    "from sklearn.pipeline import Pipeline\n",
    "from sklearn.preprocessing import StandardScaler\n",
    "from sklearn.decomposition import PCA\n",
    "from sklearn.metrics import accuracy_score\n",
    "\n",
    "\n",
    "\n",
    "from pandas import Series, DataFrame\n",
    "\n",
    "#Packages related to data visualizaiton\n",
    "import seaborn as sns\n",
    "import matplotlib.pyplot as plt\n",
    "%matplotlib inline\n",
    "#Setting plot sizes and type of plot\n",
    "\n",
    "from matplotlib.backends.backend_pdf import PdfPages\n",
    "from sklearn.model_selection import train_test_split, GridSearchCV\n",
    "from sklearn import metrics\n",
    "from sklearn.impute import MissingIndicator, SimpleImputer\n",
    "from sklearn.preprocessing import  PolynomialFeatures, KBinsDiscretizer, FunctionTransformer\n",
    "from sklearn.preprocessing import StandardScaler, MinMaxScaler, MaxAbsScaler\n",
    "from sklearn.preprocessing import LabelEncoder, OneHotEncoder, LabelBinarizer, OrdinalEncoder\n",
    "import statsmodels.formula.api as smf\n",
    "import statsmodels.tsa as tsa\n",
    "from sklearn.linear_model import LogisticRegression, LinearRegression, ElasticNet, Lasso, Ridge\n",
    "from sklearn.neighbors import KNeighborsClassifier, KNeighborsRegressor\n",
    "from sklearn.ensemble import BaggingClassifier, BaggingRegressor,RandomForestClassifier,RandomForestRegressor\n",
    "from sklearn.ensemble import GradientBoostingClassifier,GradientBoostingRegressor, AdaBoostClassifier, AdaBoostRegressor \n",
    "from sklearn.svm import LinearSVC, LinearSVR, SVC, SVR\n",
    "\n",
    "from sklearn.metrics import f1_score\n",
    "from sklearn.metrics import accuracy_score\n",
    "from sklearn.metrics import confusion_matrix\n"
   ]
  },
  {
   "cell_type": "code",
   "execution_count": 3,
   "id": "9b48c164",
   "metadata": {},
   "outputs": [
    {
     "data": {
      "text/html": [
       "<div>\n",
       "<style scoped>\n",
       "    .dataframe tbody tr th:only-of-type {\n",
       "        vertical-align: middle;\n",
       "    }\n",
       "\n",
       "    .dataframe tbody tr th {\n",
       "        vertical-align: top;\n",
       "    }\n",
       "\n",
       "    .dataframe thead th {\n",
       "        text-align: right;\n",
       "    }\n",
       "</style>\n",
       "<table border=\"1\" class=\"dataframe\">\n",
       "  <thead>\n",
       "    <tr style=\"text-align: right;\">\n",
       "      <th></th>\n",
       "      <th>Pregnancies</th>\n",
       "      <th>Glucose</th>\n",
       "      <th>BloodPressure</th>\n",
       "      <th>SkinThickness</th>\n",
       "      <th>Insulin</th>\n",
       "      <th>BMI</th>\n",
       "      <th>DiabetesPedigreeFunction</th>\n",
       "      <th>Age</th>\n",
       "      <th>Outcome</th>\n",
       "    </tr>\n",
       "  </thead>\n",
       "  <tbody>\n",
       "    <tr>\n",
       "      <th>0</th>\n",
       "      <td>6</td>\n",
       "      <td>148</td>\n",
       "      <td>72</td>\n",
       "      <td>35</td>\n",
       "      <td>0</td>\n",
       "      <td>33.6</td>\n",
       "      <td>0.627</td>\n",
       "      <td>50</td>\n",
       "      <td>1</td>\n",
       "    </tr>\n",
       "    <tr>\n",
       "      <th>1</th>\n",
       "      <td>1</td>\n",
       "      <td>85</td>\n",
       "      <td>66</td>\n",
       "      <td>29</td>\n",
       "      <td>0</td>\n",
       "      <td>26.6</td>\n",
       "      <td>0.351</td>\n",
       "      <td>31</td>\n",
       "      <td>0</td>\n",
       "    </tr>\n",
       "    <tr>\n",
       "      <th>2</th>\n",
       "      <td>8</td>\n",
       "      <td>183</td>\n",
       "      <td>64</td>\n",
       "      <td>0</td>\n",
       "      <td>0</td>\n",
       "      <td>23.3</td>\n",
       "      <td>0.672</td>\n",
       "      <td>32</td>\n",
       "      <td>1</td>\n",
       "    </tr>\n",
       "    <tr>\n",
       "      <th>3</th>\n",
       "      <td>1</td>\n",
       "      <td>89</td>\n",
       "      <td>66</td>\n",
       "      <td>23</td>\n",
       "      <td>94</td>\n",
       "      <td>28.1</td>\n",
       "      <td>0.167</td>\n",
       "      <td>21</td>\n",
       "      <td>0</td>\n",
       "    </tr>\n",
       "    <tr>\n",
       "      <th>4</th>\n",
       "      <td>0</td>\n",
       "      <td>137</td>\n",
       "      <td>40</td>\n",
       "      <td>35</td>\n",
       "      <td>168</td>\n",
       "      <td>43.1</td>\n",
       "      <td>2.288</td>\n",
       "      <td>33</td>\n",
       "      <td>1</td>\n",
       "    </tr>\n",
       "  </tbody>\n",
       "</table>\n",
       "</div>"
      ],
      "text/plain": [
       "   Pregnancies  Glucose  BloodPressure  SkinThickness  Insulin   BMI  \\\n",
       "0            6      148             72             35        0  33.6   \n",
       "1            1       85             66             29        0  26.6   \n",
       "2            8      183             64              0        0  23.3   \n",
       "3            1       89             66             23       94  28.1   \n",
       "4            0      137             40             35      168  43.1   \n",
       "\n",
       "   DiabetesPedigreeFunction  Age  Outcome  \n",
       "0                     0.627   50        1  \n",
       "1                     0.351   31        0  \n",
       "2                     0.672   32        1  \n",
       "3                     0.167   21        0  \n",
       "4                     2.288   33        1  "
      ]
     },
     "execution_count": 3,
     "metadata": {},
     "output_type": "execute_result"
    }
   ],
   "source": [
    "dataset=pd.read_csv('diabetes.csv')\n",
    "dataset.head()"
   ]
  },
  {
   "cell_type": "code",
   "execution_count": 4,
   "id": "d7b78ee3",
   "metadata": {},
   "outputs": [
    {
     "name": "stdout",
     "output_type": "stream",
     "text": [
      "<class 'pandas.core.frame.DataFrame'>\n",
      "RangeIndex: 768 entries, 0 to 767\n",
      "Data columns (total 9 columns):\n",
      " #   Column                    Non-Null Count  Dtype  \n",
      "---  ------                    --------------  -----  \n",
      " 0   Pregnancies               768 non-null    int64  \n",
      " 1   Glucose                   768 non-null    int64  \n",
      " 2   BloodPressure             768 non-null    int64  \n",
      " 3   SkinThickness             768 non-null    int64  \n",
      " 4   Insulin                   768 non-null    int64  \n",
      " 5   BMI                       768 non-null    float64\n",
      " 6   DiabetesPedigreeFunction  768 non-null    float64\n",
      " 7   Age                       768 non-null    int64  \n",
      " 8   Outcome                   768 non-null    int64  \n",
      "dtypes: float64(2), int64(7)\n",
      "memory usage: 54.1 KB\n"
     ]
    }
   ],
   "source": [
    "dataset.info()"
   ]
  },
  {
   "cell_type": "code",
   "execution_count": 5,
   "id": "68f29dab",
   "metadata": {},
   "outputs": [
    {
     "name": "stdout",
     "output_type": "stream",
     "text": [
      "Pregnancies                 0\n",
      "Glucose                     0\n",
      "BloodPressure               0\n",
      "SkinThickness               0\n",
      "Insulin                     0\n",
      "BMI                         0\n",
      "DiabetesPedigreeFunction    0\n",
      "Age                         0\n",
      "Outcome                     0\n",
      "dtype: int64\n"
     ]
    }
   ],
   "source": [
    "#checking if any null value in whole dataset\n",
    "null_values = dataset.isnull().sum()\n",
    "print(null_values)"
   ]
  },
  {
   "cell_type": "code",
   "execution_count": 6,
   "id": "acf08b9a",
   "metadata": {},
   "outputs": [
    {
     "name": "stdout",
     "output_type": "stream",
     "text": [
      "5\n",
      "35\n",
      "11\n"
     ]
    }
   ],
   "source": [
    "#cheking zeros in dataset\n",
    "glu = (dataset['Glucose']==0).sum()\n",
    "bp = (dataset['BloodPressure']==0).sum()\n",
    "bmi = (dataset['BMI']==0).sum() \n",
    "print(glu)\n",
    "print(bp)\n",
    "print(bmi)"
   ]
  },
  {
   "cell_type": "code",
   "execution_count": 7,
   "id": "1af0bad0",
   "metadata": {},
   "outputs": [
    {
     "data": {
      "text/html": [
       "<div>\n",
       "<style scoped>\n",
       "    .dataframe tbody tr th:only-of-type {\n",
       "        vertical-align: middle;\n",
       "    }\n",
       "\n",
       "    .dataframe tbody tr th {\n",
       "        vertical-align: top;\n",
       "    }\n",
       "\n",
       "    .dataframe thead th {\n",
       "        text-align: right;\n",
       "    }\n",
       "</style>\n",
       "<table border=\"1\" class=\"dataframe\">\n",
       "  <thead>\n",
       "    <tr style=\"text-align: right;\">\n",
       "      <th></th>\n",
       "      <th>Pregnancies</th>\n",
       "      <th>Glucose</th>\n",
       "      <th>BloodPressure</th>\n",
       "      <th>SkinThickness</th>\n",
       "      <th>Insulin</th>\n",
       "      <th>BMI</th>\n",
       "      <th>DiabetesPedigreeFunction</th>\n",
       "      <th>Age</th>\n",
       "      <th>Outcome</th>\n",
       "    </tr>\n",
       "  </thead>\n",
       "  <tbody>\n",
       "    <tr>\n",
       "      <th>0</th>\n",
       "      <td>6</td>\n",
       "      <td>148.0</td>\n",
       "      <td>72.0</td>\n",
       "      <td>35</td>\n",
       "      <td>0</td>\n",
       "      <td>33.6</td>\n",
       "      <td>0.627</td>\n",
       "      <td>50</td>\n",
       "      <td>1</td>\n",
       "    </tr>\n",
       "    <tr>\n",
       "      <th>1</th>\n",
       "      <td>1</td>\n",
       "      <td>85.0</td>\n",
       "      <td>66.0</td>\n",
       "      <td>29</td>\n",
       "      <td>0</td>\n",
       "      <td>26.6</td>\n",
       "      <td>0.351</td>\n",
       "      <td>31</td>\n",
       "      <td>0</td>\n",
       "    </tr>\n",
       "    <tr>\n",
       "      <th>2</th>\n",
       "      <td>8</td>\n",
       "      <td>183.0</td>\n",
       "      <td>64.0</td>\n",
       "      <td>0</td>\n",
       "      <td>0</td>\n",
       "      <td>23.3</td>\n",
       "      <td>0.672</td>\n",
       "      <td>32</td>\n",
       "      <td>1</td>\n",
       "    </tr>\n",
       "    <tr>\n",
       "      <th>3</th>\n",
       "      <td>1</td>\n",
       "      <td>89.0</td>\n",
       "      <td>66.0</td>\n",
       "      <td>23</td>\n",
       "      <td>94</td>\n",
       "      <td>28.1</td>\n",
       "      <td>0.167</td>\n",
       "      <td>21</td>\n",
       "      <td>0</td>\n",
       "    </tr>\n",
       "    <tr>\n",
       "      <th>4</th>\n",
       "      <td>0</td>\n",
       "      <td>137.0</td>\n",
       "      <td>40.0</td>\n",
       "      <td>35</td>\n",
       "      <td>168</td>\n",
       "      <td>43.1</td>\n",
       "      <td>2.288</td>\n",
       "      <td>33</td>\n",
       "      <td>1</td>\n",
       "    </tr>\n",
       "  </tbody>\n",
       "</table>\n",
       "</div>"
      ],
      "text/plain": [
       "   Pregnancies  Glucose  BloodPressure  SkinThickness  Insulin   BMI  \\\n",
       "0            6    148.0           72.0             35        0  33.6   \n",
       "1            1     85.0           66.0             29        0  26.6   \n",
       "2            8    183.0           64.0              0        0  23.3   \n",
       "3            1     89.0           66.0             23       94  28.1   \n",
       "4            0    137.0           40.0             35      168  43.1   \n",
       "\n",
       "   DiabetesPedigreeFunction  Age  Outcome  \n",
       "0                     0.627   50        1  \n",
       "1                     0.351   31        0  \n",
       "2                     0.672   32        1  \n",
       "3                     0.167   21        0  \n",
       "4                     2.288   33        1  "
      ]
     },
     "execution_count": 7,
     "metadata": {},
     "output_type": "execute_result"
    }
   ],
   "source": [
    "#glucose, blood_pressure, BMI can not be zero. \n",
    "#filling zero values with median\n",
    "dataset.Glucose.replace(0,dataset.Glucose.mean(), inplace=True)\n",
    "dataset.BloodPressure.replace(0,dataset.BloodPressure.mean(), inplace=True)\n",
    "dataset.BMI.replace(0,dataset.BMI.mean(), inplace=True)\n",
    "dataset.head()"
   ]
  },
  {
   "cell_type": "code",
   "execution_count": 8,
   "id": "41e1c41f",
   "metadata": {},
   "outputs": [
    {
     "name": "stderr",
     "output_type": "stream",
     "text": [
      "C:\\Users\\HP\\anaconda3\\lib\\site-packages\\seaborn\\_decorators.py:36: FutureWarning: Pass the following variable as a keyword arg: x. From version 0.12, the only valid positional argument will be `data`, and passing other arguments without an explicit keyword will result in an error or misinterpretation.\n",
      "  warnings.warn(\n"
     ]
    },
    {
     "data": {
      "text/plain": [
       "<AxesSubplot:xlabel='Age', ylabel='count'>"
      ]
     },
     "execution_count": 8,
     "metadata": {},
     "output_type": "execute_result"
    },
    {
     "data": {
      "image/png": "[encoded data removed]",
      "text/plain": [
       "<Figure size 864x720 with 1 Axes>"
      ]
     },
     "metadata": {
      "needs_background": "light"
     },
     "output_type": "display_data"
    }
   ],
   "source": [
    "age_bins=pd.cut(dataset[\"Age\"],bins=[20,30,60,90],labels=[\"Age(20-30)\",\"Age(30-60)\",\"Age(60-90)\"])\n",
    "plt.figure(figsize=(12,10))\n",
    "sns.countplot(age_bins,hue=dataset[\"Outcome\"])"
   ]
  },
  {
   "cell_type": "code",
   "execution_count": 9,
   "id": "b4231b19",
   "metadata": {},
   "outputs": [
    {
     "name": "stderr",
     "output_type": "stream",
     "text": [
      "C:\\Users\\HP\\anaconda3\\lib\\site-packages\\seaborn\\_decorators.py:36: FutureWarning: Pass the following variable as a keyword arg: x. From version 0.12, the only valid positional argument will be `data`, and passing other arguments without an explicit keyword will result in an error or misinterpretation.\n",
      "  warnings.warn(\n"
     ]
    },
    {
     "data": {
      "text/plain": [
       "<AxesSubplot:xlabel='Glucose', ylabel='count'>"
      ]
     },
     "execution_count": 9,
     "metadata": {},
     "output_type": "execute_result"
    },
    {
     "data": {
      "image/png": "[encoded data removed]",
      "text/plain": [
       "<Figure size 720x720 with 1 Axes>"
      ]
     },
     "metadata": {
      "needs_background": "light"
     },
     "output_type": "display_data"
    }
   ],
   "source": [
    "glucose_bins=pd.cut(dataset[\"Glucose\"],bins=[40,90,130,200],labels=[\"40-90\",\"90-130\",\"130-200\"])\n",
    "plt.figure(figsize=(10,10))\n",
    "sns.countplot(glucose_bins,hue=dataset[\"Outcome\"])"
   ]
  },
  {
   "cell_type": "code",
   "execution_count": 10,
   "id": "a6e0c248",
   "metadata": {},
   "outputs": [
    {
     "name": "stderr",
     "output_type": "stream",
     "text": [
      "C:\\Users\\HP\\anaconda3\\lib\\site-packages\\seaborn\\_decorators.py:36: FutureWarning: Pass the following variable as a keyword arg: x. From version 0.12, the only valid positional argument will be `data`, and passing other arguments without an explicit keyword will result in an error or misinterpretation.\n",
      "  warnings.warn(\n"
     ]
    },
    {
     "data": {
      "text/plain": [
       "<AxesSubplot:xlabel='Outcome', ylabel='count'>"
      ]
     },
     "execution_count": 10,
     "metadata": {},
     "output_type": "execute_result"
    },
    {
     "data": {
      "image/png": "[encoded data removed]",
      "text/plain": [
       "<Figure size 1008x720 with 1 Axes>"
      ]
     },
     "metadata": {
      "needs_background": "light"
     },
     "output_type": "display_data"
    }
   ],
   "source": [
    "plt.figure(figsize=(14,10))\n",
    "sns.countplot(\"Outcome\",data=dataset)"
   ]
  },
  {
   "cell_type": "code",
   "execution_count": 13,
   "id": "33fc8797",
   "metadata": {},
   "outputs": [
    {
     "data": {
      "image/png": "[encoded data removed]",
      "text/plain": [
       "<Figure size 720x576 with 2 Axes>"
      ]
     },
     "metadata": {
      "needs_background": "light"
     },
     "output_type": "display_data"
    }
   ],
   "source": [
    "plt.figure(figsize=(10,8))\n",
    "sns.heatmap(dataset.corr(), annot=True, cmap=\"crest\")\n",
    "plt.show()"
   ]
  },
  {
   "cell_type": "code",
   "execution_count": 166,
   "id": "96c03ce7",
   "metadata": {},
   "outputs": [],
   "source": [
    "features=dataset.drop(['Outcome','DiabetesPedigreeFunction','SkinThickness'],axis =1)\n",
    "labels=dataset.iloc[:,8].values"
   ]
  },
  {
   "cell_type": "code",
   "execution_count": 227,
   "id": "92bce085",
   "metadata": {},
   "outputs": [
    {
     "name": "stdout",
     "output_type": "stream",
     "text": [
      "     Pregnancies  Glucose  BloodPressure  Insulin   BMI  Age\n",
      "602            1    124.0      74.000000        0  27.8   30\n",
      "429            1     95.0      82.000000      180  35.0   43\n",
      "623            0     94.0      70.000000      115  43.5   21\n",
      "209            7    184.0      84.000000        0  35.5   41\n",
      "589            0     73.0      69.105469        0  21.1   25\n",
      "..           ...      ...            ...      ...   ...  ...\n",
      "534            1     77.0      56.000000       56  33.3   24\n",
      "584            8    124.0      76.000000      600  28.7   52\n",
      "493            4    125.0      70.000000      122  28.9   45\n",
      "527            3    116.0      74.000000      105  26.3   24\n",
      "168            4    110.0      66.000000        0  31.9   29\n",
      "\n",
      "[614 rows x 6 columns]\n"
     ]
    }
   ],
   "source": [
    "from sklearn.model_selection import train_test_split\n",
    "X_train,X_test,y_train,Y_test=train_test_split(features,labels,test_size=0.2,random_state=2)\n",
    "print(X_train)"
   ]
  },
  {
   "cell_type": "code",
   "execution_count": 236,
   "id": "788230a0",
   "metadata": {},
   "outputs": [],
   "source": [
    "X_train, X_test, y_train, Y_test = train_test_split(features, labels, test_size = 0.2, random_state = 2)"
   ]
  },
  {
   "cell_type": "code",
   "execution_count": 152,
   "id": "04172be9",
   "metadata": {},
   "outputs": [],
   "source": [
    "from sklearn.linear_model import LogisticRegression\n",
    "from sklearn.metrics import f1_score\n",
    "from sklearn.metrics import accuracy_score\n",
    "from sklearn.metrics import confusion_matrix \n",
    "lr = LogisticRegression()\n",
    "lr.fit(X_train, y_train)\n",
    "lr_yhat = lr.predict(X_test)"
   ]
  },
  {
   "cell_type": "code",
   "execution_count": 229,
   "id": "7c38d4b6",
   "metadata": {},
   "outputs": [
    {
     "name": "stdout",
     "output_type": "stream",
     "text": [
      "[0.78516624 1.37668161 0.78516624 1.37668161 0.78516624 1.37668161\n",
      " 0.78516624 0.78516624 0.78516624 0.78516624 0.78516624 0.78516624\n",
      " 0.78516624 1.37668161 1.37668161 0.78516624 0.78516624 1.37668161\n",
      " 0.78516624 1.37668161 0.78516624 0.78516624 1.37668161 1.37668161\n",
      " 0.78516624 0.78516624 0.78516624 0.78516624 0.78516624 1.37668161\n",
      " 0.78516624 0.78516624 1.37668161 1.37668161 0.78516624 1.37668161\n",
      " 0.78516624 0.78516624 0.78516624 1.37668161 1.37668161 1.37668161\n",
      " 1.37668161 1.37668161 0.78516624 0.78516624 1.37668161 1.37668161\n",
      " 0.78516624 0.78516624 1.37668161 1.37668161 1.37668161 0.78516624\n",
      " 0.78516624 0.78516624 0.78516624 0.78516624 1.37668161 0.78516624\n",
      " 0.78516624 0.78516624 0.78516624 1.37668161 1.37668161 1.37668161\n",
      " 1.37668161 0.78516624 0.78516624 0.78516624 0.78516624 1.37668161\n",
      " 0.78516624 1.37668161 1.37668161 0.78516624 0.78516624 0.78516624\n",
      " 0.78516624 0.78516624 1.37668161 0.78516624 1.37668161 1.37668161\n",
      " 0.78516624 1.37668161 0.78516624 1.37668161 0.78516624 0.78516624\n",
      " 0.78516624 0.78516624 0.78516624 0.78516624 0.78516624 1.37668161\n",
      " 0.78516624 0.78516624 1.37668161 0.78516624 0.78516624 0.78516624\n",
      " 0.78516624 0.78516624 0.78516624 0.78516624 0.78516624 0.78516624\n",
      " 1.37668161 0.78516624 0.78516624 0.78516624 0.78516624 1.37668161\n",
      " 0.78516624 0.78516624 1.37668161 0.78516624 1.37668161 1.37668161\n",
      " 1.37668161 0.78516624 1.37668161 0.78516624 0.78516624 1.37668161\n",
      " 1.37668161 0.78516624 0.78516624 0.78516624 0.78516624 1.37668161\n",
      " 0.78516624 1.37668161 0.78516624 0.78516624 1.37668161 0.78516624\n",
      " 0.78516624 0.78516624 1.37668161 0.78516624 0.78516624 0.78516624\n",
      " 1.37668161 1.37668161 0.78516624 1.37668161 1.37668161 1.37668161\n",
      " 0.78516624 1.37668161 0.78516624 1.37668161 0.78516624 0.78516624\n",
      " 0.78516624 0.78516624 0.78516624 0.78516624 0.78516624 0.78516624\n",
      " 0.78516624 0.78516624 1.37668161 0.78516624 1.37668161 0.78516624\n",
      " 1.37668161 0.78516624 1.37668161 0.78516624 0.78516624 0.78516624\n",
      " 0.78516624 0.78516624 1.37668161 1.37668161 0.78516624 1.37668161\n",
      " 0.78516624 0.78516624 1.37668161 0.78516624 0.78516624 0.78516624\n",
      " 0.78516624 1.37668161 0.78516624 0.78516624 1.37668161 1.37668161\n",
      " 0.78516624 0.78516624 0.78516624 0.78516624 1.37668161 0.78516624\n",
      " 0.78516624 0.78516624 0.78516624 0.78516624 0.78516624 0.78516624\n",
      " 0.78516624 1.37668161 0.78516624 0.78516624 0.78516624 0.78516624\n",
      " 1.37668161 0.78516624 1.37668161 1.37668161 1.37668161 0.78516624\n",
      " 0.78516624 0.78516624 1.37668161 1.37668161 0.78516624 0.78516624\n",
      " 1.37668161 1.37668161 1.37668161 0.78516624 0.78516624 1.37668161\n",
      " 1.37668161 1.37668161 1.37668161 0.78516624 0.78516624 0.78516624\n",
      " 1.37668161 0.78516624 0.78516624 1.37668161 1.37668161 0.78516624\n",
      " 0.78516624 1.37668161 0.78516624 0.78516624 1.37668161 0.78516624\n",
      " 0.78516624 0.78516624 0.78516624 1.37668161 1.37668161 0.78516624\n",
      " 0.78516624 0.78516624 0.78516624 1.37668161 0.78516624 0.78516624\n",
      " 0.78516624 1.37668161 0.78516624 1.37668161 0.78516624 0.78516624\n",
      " 1.37668161 1.37668161 0.78516624 1.37668161 1.37668161 0.78516624\n",
      " 1.37668161 1.37668161 0.78516624 0.78516624 0.78516624 1.37668161\n",
      " 1.37668161 0.78516624 0.78516624 0.78516624 1.37668161 0.78516624\n",
      " 1.37668161 1.37668161 0.78516624 0.78516624 1.37668161 0.78516624\n",
      " 1.37668161 1.37668161 1.37668161 1.37668161 1.37668161 0.78516624\n",
      " 0.78516624 0.78516624 1.37668161 0.78516624 0.78516624 0.78516624\n",
      " 0.78516624 0.78516624 0.78516624 0.78516624 0.78516624 0.78516624\n",
      " 0.78516624 1.37668161 1.37668161 0.78516624 0.78516624 0.78516624\n",
      " 0.78516624 0.78516624 0.78516624 1.37668161 1.37668161 0.78516624\n",
      " 0.78516624 0.78516624 0.78516624 0.78516624 1.37668161 1.37668161\n",
      " 1.37668161 0.78516624 0.78516624 1.37668161 1.37668161 1.37668161\n",
      " 0.78516624 1.37668161 0.78516624 0.78516624 1.37668161 0.78516624\n",
      " 1.37668161 0.78516624 0.78516624 0.78516624 1.37668161 0.78516624\n",
      " 0.78516624 0.78516624 0.78516624 1.37668161 1.37668161 1.37668161\n",
      " 0.78516624 0.78516624 0.78516624 0.78516624 0.78516624 0.78516624\n",
      " 0.78516624 0.78516624 0.78516624 0.78516624 1.37668161 0.78516624\n",
      " 0.78516624 0.78516624 1.37668161 0.78516624 0.78516624 1.37668161\n",
      " 0.78516624 0.78516624 0.78516624 0.78516624 1.37668161 1.37668161\n",
      " 1.37668161 0.78516624 0.78516624 1.37668161 0.78516624 1.37668161\n",
      " 0.78516624 0.78516624 0.78516624 0.78516624 1.37668161 0.78516624\n",
      " 0.78516624 1.37668161 0.78516624 0.78516624 0.78516624 1.37668161\n",
      " 0.78516624 0.78516624 1.37668161 1.37668161 0.78516624 0.78516624\n",
      " 1.37668161 0.78516624 0.78516624 1.37668161 0.78516624 0.78516624\n",
      " 0.78516624 0.78516624 0.78516624 0.78516624 1.37668161 0.78516624\n",
      " 0.78516624 1.37668161 0.78516624 0.78516624 0.78516624 0.78516624\n",
      " 0.78516624 0.78516624 1.37668161 1.37668161 0.78516624 0.78516624\n",
      " 1.37668161 0.78516624 0.78516624 0.78516624 0.78516624 0.78516624\n",
      " 0.78516624 1.37668161 0.78516624 1.37668161 1.37668161 0.78516624\n",
      " 1.37668161 0.78516624 0.78516624 0.78516624 1.37668161 0.78516624\n",
      " 0.78516624 0.78516624 1.37668161 0.78516624 1.37668161 0.78516624\n",
      " 0.78516624 1.37668161 0.78516624 0.78516624 0.78516624 1.37668161\n",
      " 1.37668161 0.78516624 0.78516624 0.78516624 0.78516624 1.37668161\n",
      " 1.37668161 0.78516624 1.37668161 0.78516624 0.78516624 0.78516624\n",
      " 0.78516624 0.78516624 0.78516624 0.78516624 0.78516624 0.78516624\n",
      " 0.78516624 0.78516624 0.78516624 1.37668161 1.37668161 0.78516624\n",
      " 1.37668161 0.78516624 0.78516624 1.37668161 0.78516624 0.78516624\n",
      " 1.37668161 0.78516624 1.37668161 0.78516624 0.78516624 1.37668161\n",
      " 0.78516624 0.78516624 0.78516624 1.37668161 0.78516624 0.78516624\n",
      " 0.78516624 1.37668161 0.78516624 0.78516624 1.37668161 0.78516624\n",
      " 0.78516624 0.78516624 0.78516624 0.78516624 1.37668161 1.37668161\n",
      " 0.78516624 0.78516624 0.78516624 1.37668161 1.37668161 1.37668161\n",
      " 1.37668161 0.78516624 1.37668161 0.78516624 1.37668161 0.78516624\n",
      " 1.37668161 1.37668161 0.78516624 1.37668161 1.37668161 1.37668161\n",
      " 0.78516624 0.78516624 1.37668161 0.78516624 1.37668161 0.78516624\n",
      " 1.37668161 1.37668161 1.37668161 1.37668161 0.78516624 0.78516624\n",
      " 0.78516624 0.78516624 1.37668161 1.37668161 1.37668161 1.37668161\n",
      " 0.78516624 0.78516624 0.78516624 0.78516624 0.78516624 1.37668161\n",
      " 1.37668161 0.78516624 0.78516624 0.78516624 0.78516624 0.78516624\n",
      " 0.78516624 1.37668161 0.78516624 0.78516624 1.37668161 0.78516624\n",
      " 0.78516624 1.37668161 0.78516624 1.37668161 0.78516624 0.78516624\n",
      " 1.37668161 1.37668161 1.37668161 1.37668161 1.37668161 0.78516624\n",
      " 1.37668161 0.78516624 1.37668161 0.78516624 1.37668161 0.78516624\n",
      " 0.78516624 0.78516624 0.78516624 0.78516624 1.37668161 1.37668161\n",
      " 0.78516624 1.37668161 1.37668161 0.78516624 1.37668161 0.78516624\n",
      " 1.37668161 0.78516624 0.78516624 1.37668161 0.78516624 0.78516624\n",
      " 1.37668161 1.37668161 1.37668161 1.37668161 0.78516624 0.78516624\n",
      " 0.78516624 0.78516624 0.78516624 0.78516624 0.78516624 1.37668161\n",
      " 0.78516624 0.78516624 0.78516624 0.78516624 1.37668161 1.37668161\n",
      " 0.78516624 0.78516624] [0 1 0 1 0 1 0 0 0 0 0 0 0 1 1 0 0 1 0 1 0 0 1 1 0 0 0 0 0 1 0 0 1 1 0 1 0\n",
      " 0 0 1 1 1 1 1 0 0 1 1 0 0 1 1 1 0 0 0 0 0 1 0 0 0 0 1 1 1 1 0 0 0 0 1 0 1\n",
      " 1 0 0 0 0 0 1 0 1 1 0 1 0 1 0 0 0 0 0 0 0 1 0 0 1 0 0 0 0 0 0 0 0 0 1 0 0\n",
      " 0 0 1 0 0 1 0 1 1 1 0 1 0 0 1 1 0 0 0 0 1 0 1 0 0 1 0 0 0 1 0 0 0 1 1 0 1\n",
      " 1 1 0 1 0 1 0 0 0 0 0 0 0 0 0 0 1 0 1 0 1 0 1 0 0 0 0 0 1 1 0 1 0 0 1 0 0\n",
      " 0 0 1 0 0 1 1 0 0 0 0 1 0 0 0 0 0 0 0 0 1 0 0 0 0 1 0 1 1 1 0 0 0 1 1 0 0\n",
      " 1 1 1 0 0 1 1 1 1 0 0 0 1 0 0 1 1 0 0 1 0 0 1 0 0 0 0 1 1 0 0 0 0 1 0 0 0\n",
      " 1 0 1 0 0 1 1 0 1 1 0 1 1 0 0 0 1 1 0 0 0 1 0 1 1 0 0 1 0 1 1 1 1 1 0 0 0\n",
      " 1 0 0 0 0 0 0 0 0 0 0 1 1 0 0 0 0 0 0 1 1 0 0 0 0 0 1 1 1 0 0 1 1 1 0 1 0\n",
      " 0 1 0 1 0 0 0 1 0 0 0 0 1 1 1 0 0 0 0 0 0 0 0 0 0 1 0 0 0 1 0 0 1 0 0 0 0\n",
      " 1 1 1 0 0 1 0 1 0 0 0 0 1 0 0 1 0 0 0 1 0 0 1 1 0 0 1 0 0 1 0 0 0 0 0 0 1\n",
      " 0 0 1 0 0 0 0 0 0 1 1 0 0 1 0 0 0 0 0 0 1 0 1 1 0 1 0 0 0 1 0 0 0 1 0 1 0\n",
      " 0 1 0 0 0 1 1 0 0 0 0 1 1 0 1 0 0 0 0 0 0 0 0 0 0 0 0 1 1 0 1 0 0 1 0 0 1\n",
      " 0 1 0 0 1 0 0 0 1 0 0 0 1 0 0 1 0 0 0 0 0 1 1 0 0 0 1 1 1 1 0 1 0 1 0 1 1\n",
      " 0 1 1 1 0 0 1 0 1 0 1 1 1 1 0 0 0 0 1 1 1 1 0 0 0 0 0 1 1 0 0 0 0 0 0 1 0\n",
      " 0 1 0 0 1 0 1 0 0 1 1 1 1 1 0 1 0 1 0 1 0 0 0 0 0 1 1 0 1 1 0 1 0 1 0 0 1\n",
      " 0 0 1 1 1 1 0 0 0 0 0 0 0 1 0 0 0 0 1 1 0 0]\n"
     ]
    }
   ],
   "source": [
    "from sklearn.utils.class_weight import compute_sample_weight\n",
    "w_train = compute_sample_weight('balanced', y_train)\n",
    "print(w_train, y_train)"
   ]
  },
  {
   "cell_type": "code",
   "execution_count": null,
   "id": "990083b8",
   "metadata": {},
   "outputs": [],
   "source": []
  },
  {
   "cell_type": "code",
   "execution_count": 237,
   "id": "c57e1e7f",
   "metadata": {},
   "outputs": [
    {
     "name": "stdout",
     "output_type": "stream",
     "text": [
      "Accuracy score of the Logistic Regression model is 0.7727272727272727\n"
     ]
    }
   ],
   "source": [
    "print('Accuracy score of the Logistic Regression model is {}'.format(accuracy_score(Y_test, lr_yhat)))"
   ]
  },
  {
   "cell_type": "code",
   "execution_count": 238,
   "id": "987c430e",
   "metadata": {},
   "outputs": [
    {
     "name": "stdout",
     "output_type": "stream",
     "text": [
      "F1 score of the Logistic Regression model is 0.5783132530120482\n"
     ]
    }
   ],
   "source": [
    "print('F1 score of the Logistic Regression model is {}'.format(f1_score(Y_test, lr_yhat)))"
   ]
  },
  {
   "cell_type": "code",
   "execution_count": 88,
   "id": "41cceee3",
   "metadata": {},
   "outputs": [],
   "source": [
    "from sklearn.model_selection import cross_val_score\n",
    "from sklearn.model_selection import train_test_split"
   ]
  },
  {
   "cell_type": "code",
   "execution_count": null,
   "id": "03ac132a",
   "metadata": {},
   "outputs": [],
   "source": []
  },
  {
   "cell_type": "code",
   "execution_count": 240,
   "id": "77639ae2",
   "metadata": {},
   "outputs": [
    {
     "name": "stdout",
     "output_type": "stream",
     "text": [
      "Cross Validation Scores:  [0.73684211 0.375      0.66666667 0.53333333 0.5       ]\n",
      "mean CV Score:  0.5623684210526315\n",
      "Number of CV Scores used in Average:  5\n"
     ]
    }
   ],
   "source": [
    "\n",
    "from sklearn.model_selection import KFold, cross_val_score\n",
    "\n",
    "\n",
    "scores = cross_val_score(lr, X_test, Y_test,scoring=\"f1\", cv = 5)\n",
    "\n",
    "\n",
    "print(\"Cross Validation Scores: \", scores)\n",
    "print(\"mean CV Score: \", scores.mean())\n",
    "print(\"Number of CV Scores used in Average: \", len(scores))"
   ]
  },
  {
   "cell_type": "code",
   "execution_count": null,
   "id": "b482d0df",
   "metadata": {},
   "outputs": [],
   "source": [
    "#logistic regression is the good try because we are checking either it "
   ]
  },
  {
   "cell_type": "code",
   "execution_count": null,
   "id": "81a489f6",
   "metadata": {},
   "outputs": [],
   "source": []
  }
 ],
 "metadata": {
  "kernelspec": {
   "display_name": "Python 3 (ipykernel)",
   "language": "python",
   "name": "python3"
  },
  "language_info": {
   "codemirror_mode": {
    "name": "ipython",
    "version": 3
   },
   "file_extension": ".py",
   "mimetype": "text/x-python",
   "name": "python",
   "nbconvert_exporter": "python",
   "pygments_lexer": "ipython3",
   "version": "3.9.7"
  }
 },
 "nbformat": 4,
 "nbformat_minor": 5
}
