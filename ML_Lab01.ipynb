{
 "cells": [
  {
   "cell_type": "code",
   "execution_count": null,
   "id": "56c2c686",
   "metadata": {},
   "outputs": [],
   "source": [
    "import numpy as np\n",
    "import pandas as pd\n",
    "import matplotlib.pyplot as plt\n",
    "import seaborn as sns\n",
    "from sklearn.datasets import fetch_openml"
   ]
  },
  {
   "cell_type": "code",
   "execution_count": 8,
   "id": "2704d0e8",
   "metadata": {},
   "outputs": [
    {
     "name": "stdout",
     "output_type": "stream",
     "text": [
      "[1.3 2.6 3.6 4.8 6.2 7.2 8.3 9.5]\n"
     ]
    }
   ],
   "source": [
    "one_dimensional_array = np.array([1.3, 2.6, 3.6, 4.8, 6.2, 7.2, 8.3, 9.5])\n",
    "print(one_dimensional_array)"
   ]
  },
  {
   "cell_type": "code",
   "execution_count": 7,
   "id": "fbbcd2e2",
   "metadata": {},
   "outputs": [
    {
     "name": "stdout",
     "output_type": "stream",
     "text": [
      "[[ 7  4]\n",
      " [12  8]\n",
      " [ 3  7]]\n"
     ]
    }
   ],
   "source": [
    "two_dimensional_array = np.array([[7, 4], [12, 8], [3, 7]])\n",
    "print(two_dimensional_array)"
   ]
  },
  {
   "cell_type": "code",
   "execution_count": 6,
   "id": "ff5b3f9c",
   "metadata": {},
   "outputs": [
    {
     "name": "stdout",
     "output_type": "stream",
     "text": [
      "[10 11 12 13 14]\n"
     ]
    }
   ],
   "source": [
    "sequence_of_integers = np.arange(10, 15)\n",
    "print(sequence_of_integers)"
   ]
  },
  {
   "cell_type": "code",
   "execution_count": 14,
   "id": "eb378a82",
   "metadata": {},
   "outputs": [
    {
     "name": "stdout",
     "output_type": "stream",
     "text": [
      "[79 81 96 55 70 89]\n"
     ]
    }
   ],
   "source": [
    "random_integers_between_50_and_100 = np.random.randint(low=50, high=101, size=(6))\n",
    "print(random_integers_between_50_and_100)"
   ]
  },
  {
   "cell_type": "code",
   "execution_count": 10,
   "id": "c9881cde",
   "metadata": {},
   "outputs": [
    {
     "name": "stdout",
     "output_type": "stream",
     "text": [
      "[0.09210143 0.26508417 0.60889578 0.93454673 0.98849123 0.943795  ]\n"
     ]
    }
   ],
   "source": [
    "random_floats_between_0_and_1 = np.random.random([6])\n",
    "print(random_floats_between_0_and_1) "
   ]
  },
  {
   "cell_type": "code",
   "execution_count": 11,
   "id": "1814764c",
   "metadata": {},
   "outputs": [
    {
     "name": "stdout",
     "output_type": "stream",
     "text": [
      "[2.09210143 2.26508417 2.60889578 2.93454673 2.98849123 2.943795  ]\n"
     ]
    }
   ],
   "source": [
    "random_floats_between_2_and_3 = random_floats_between_0_and_1 + 2.0\n",
    "print(random_floats_between_2_and_3)"
   ]
  },
  {
   "cell_type": "code",
   "execution_count": 15,
   "id": "89894c1b",
   "metadata": {},
   "outputs": [
    {
     "name": "stdout",
     "output_type": "stream",
     "text": [
      "[237 243 288 165 210 267]\n"
     ]
    }
   ],
   "source": [
    "random_integers_between_150_and_300 = random_integers_between_50_and_100 * 3\n",
    "print(random_integers_between_150_and_300)"
   ]
  },
  {
   "cell_type": "code",
   "execution_count": 16,
   "id": "b943fbed",
   "metadata": {},
   "outputs": [
    {
     "name": "stdout",
     "output_type": "stream",
     "text": [
      "[ 6  7  8  9 10 11 12 13 14 15 16 17 18 19 20]\n",
      "[18 20 22 24 26 28 30 32 34 36 38 40 42 44 46]\n"
     ]
    }
   ],
   "source": [
    "feature = np.arange(6, 21)\n",
    "print(feature)\n",
    "label = (feature * 2) + 6\n",
    "print(label)"
   ]
  },
  {
   "cell_type": "code",
   "execution_count": 17,
   "id": "23a71845",
   "metadata": {},
   "outputs": [
    {
     "name": "stdout",
     "output_type": "stream",
     "text": [
      "[ 1.77836363 -0.25288041 -1.96087943  1.7589272   1.69854343  0.98695701\n",
      " -0.34130971 -1.76438339 -1.75744121 -1.379007    0.64910959 -1.79453791\n",
      " -0.44590983  1.86204413 -0.39735324]\n",
      "[19.77836363 19.74711959 20.03912057 25.7589272  27.69854343 28.98695701\n",
      " 29.65869029 30.23561661 32.24255879 34.620993   38.64910959 38.20546209\n",
      " 41.55409017 45.86204413 45.60264676]\n"
     ]
    }
   ],
   "source": [
    "noise = (np.random.random([30]) * 4) -2\n",
    "print(noise)\n",
    "label = label + noise\n",
    "print(label)"
   ]
  },
  {
   "cell_type": "code",
   "execution_count": 22,
   "id": "b308a456",
   "metadata": {},
   "outputs": [
    {
     "name": "stdout",
     "output_type": "stream",
     "text": [
      "[ 0.03317864  4.90482399 -1.48229062 -1.39915689  7.1387404   3.29648513\n",
      "  5.02227389  1.14395768  7.30034361 -1.63938682  1.47036767  5.83666311\n",
      " -0.89270416  4.2050669   2.35320401]\n",
      "[19.81154227 24.65194357 18.55682995 24.35977031 34.83728383 32.28344214\n",
      " 34.68096418 31.37957429 39.5429024  32.98160618 40.11947726 44.0421252\n",
      " 40.66138601 50.06711103 47.95585077]\n"
     ]
    }
   ],
   "source": [
    "dataset = (np.random.random([15]) * 10) -2\n",
    "print(dataset)\n",
    "label = label + dataset\n",
    "print(label)"
   ]
  },
  {
   "cell_type": "code",
   "execution_count": null,
   "id": "0cf359a1",
   "metadata": {},
   "outputs": [],
   "source": [
    "features = (np.random.random([15,2])*10)-2\n",
    "print(features)\n",
    "label = (features*1)+ label \n",
    "print(label)"
   ]
  },
  {
   "cell_type": "code",
   "execution_count": 33,
   "id": "957b62ef",
   "metadata": {},
   "outputs": [
    {
     "name": "stdout",
     "output_type": "stream",
     "text": [
      "[[ 2.75717382  4.00920044]\n",
      " [ 5.511664    0.27536696]\n",
      " [-1.05610098 -0.51811053]\n",
      " [ 0.67142932  4.3123391 ]\n",
      " [ 5.55923667  0.13806904]\n",
      " [ 7.76400897  6.41351116]\n",
      " [-1.79278082  4.43327874]\n",
      " [ 7.36341033  1.08885017]\n",
      " [ 3.3609106   7.42369324]\n",
      " [-0.25637253  7.60220338]\n",
      " [ 2.41924067 -1.29417392]\n",
      " [ 3.50688695  3.35093659]\n",
      " [-0.3817984   3.31703008]\n",
      " [-0.50697563  4.644406  ]\n",
      " [ 5.08119188  5.89330558]]\n",
      "[ 22.10812495   3.03546028   1.09435407   5.7908618    1.53511695\n",
      "  99.58911636 -15.89579423  16.03530114  49.90073861  -3.8979923\n",
      "  -6.26183638  23.50271161  -2.53287354  -4.70920135  59.89003292]\n"
     ]
    },
    {
     "data": {
      "image/png": "[encoded data removed]",
      "text/plain": [
       "<Figure size 432x288 with 1 Axes>"
      ]
     },
     "metadata": {
      "needs_background": "light"
     },
     "output_type": "display_data"
    }
   ],
   "source": [
    "features = (np.random.random([15,2])*10)-2\n",
    "print(features)\n",
    "f1 = features [:, 0]\n",
    "f2 = features [:, 1]\n",
    "label = (f1*f2)*2\n",
    "print(label)\n",
    "plt.scatter(f1, label)\n",
    "plt.scatter(f2, label)\n",
    "plt.show()"
   ]
  },
  {
   "cell_type": "code",
   "execution_count": null,
   "id": "532a9c23",
   "metadata": {},
   "outputs": [],
   "source": []
  },
  {
   "cell_type": "code",
   "execution_count": null,
   "id": "88e87631",
   "metadata": {},
   "outputs": [],
   "source": []
  },
  {
   "cell_type": "code",
   "execution_count": null,
   "id": "1c3a686d",
   "metadata": {},
   "outputs": [],
   "source": []
  }
 ],
 "metadata": {
  "kernelspec": {
   "display_name": "Python 3 (ipykernel)",
   "language": "python",
   "name": "python3"
  },
  "language_info": {
   "codemirror_mode": {
    "name": "ipython",
    "version": 3
   },
   "file_extension": ".py",
   "mimetype": "text/x-python",
   "name": "python",
   "nbconvert_exporter": "python",
   "pygments_lexer": "ipython3",
   "version": "3.9.7"
  }
 },
 "nbformat": 4,
 "nbformat_minor": 5
}
